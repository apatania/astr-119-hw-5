{
 "cells": [
  {
   "cell_type": "code",
   "execution_count": 16,
   "metadata": {},
   "outputs": [],
   "source": [
    "%matplotlib inline\n",
    "import numpy as np\n",
    "import matplotlib.pyplot as plt"
   ]
  },
  {
   "cell_type": "code",
   "execution_count": 17,
   "metadata": {},
   "outputs": [],
   "source": [
    "def dydx(x,y):\n",
    "    y_derivs = np.zeros(2)\n",
    "    \n",
    "    y_derivs[0] = y[1]\n",
    "    \n",
    "    y_derivs[1] = -1*y[0]\n",
    "    \n",
    "    return y_derivs"
   ]
  },
  {
   "cell_type": "code",
   "execution_count": 31,
   "metadata": {},
   "outputs": [
    {
     "ename": "SyntaxError",
     "evalue": "invalid syntax (<ipython-input-31-effc81bf91f7>, line 46)",
     "output_type": "error",
     "traceback": [
      "\u001b[0;36m  File \u001b[0;32m\"<ipython-input-31-effc81bf91f7>\"\u001b[0;36m, line \u001b[0;32m46\u001b[0m\n\u001b[0;31m    b = np.zeros(nv)\u001b[0m\n\u001b[0m    ^\u001b[0m\n\u001b[0;31mSyntaxError\u001b[0m\u001b[0;31m:\u001b[0m invalid syntax\n"
     ]
    }
   ],
   "source": [
    "def rk4_mv_core(dydx,xi,yi,nv,h):\n",
    "    \n",
    "    k1 = np.zeros(nv)\n",
    "    k2 = np.zeros(nv)\n",
    "    k3 = np.zeros(nv)\n",
    "    k4 = np.zeros(nv)\n",
    "    k5 = np.zeros(nv)\n",
    "    k6 = np.zeros(nv)\n",
    "    \n",
    "    x_ipoh_k2 = xi + 1/5*h\n",
    "    x_ipoh_k3 = xi + 3/10*h\n",
    "    x_ipoh_k4 = xi + 3/5*h\n",
    "    x_ipoh_k5 = xi + h\n",
    "    x_ipoh_k6 = xi + 7/8*h\n",
    "    \n",
    "    x_ipo = xi + h\n",
    "    \n",
    "    \n",
    "    y_temp = np.zeros(nv)\n",
    "    \n",
    "    y_derivs = dydx(xi,yi)\n",
    "    k1[:] = h*y_derivs[:]\n",
    "    \n",
    "    y_temp[:] = yi[:] + 1/5*k1[:]\n",
    "    y_derivs = dydx(x_ipoh_k2,y_temp)\n",
    "    k2[:] = h*y_derivs[:]\n",
    "    \n",
    "    y_temp[:] = yi[:] + 3/40*k1[:]+9/40*k2[:]\n",
    "    y_derivs = dydx(x_ipoh_k3,y_temp)\n",
    "    k3[:] = h*y_derivs[:]\n",
    "    \n",
    "    y_temp[:] = yi[:] + 3/10*k1[:] + -9/10*k2[:] + 6/5*k3[:]\n",
    "    y_derivs = dydx(x_ipoh_k4,y_temp)\n",
    "    k4[:] = h*y_derivs[:]\n",
    "    \n",
    "    y_temp[:] = yi[:] + -11/54*k1[:] + 5/2*k2[:] + -70/27*k3[:] + 35/27*k4[:]\n",
    "    y_derivs = dydx(x_ipoh_k5,y_temp)\n",
    "    k5[:] = h*y_derivs[:]\n",
    "    \n",
    "    y_temp[:] = yi[:] + 1631/55296*k1[:] + 175/512*k2[:] + 575/13824*k3[:] + 44275/110592*k4[:]+ 253/4096*k5[:]\n",
    "    y_derivs = dydx(x_ipoh_k6,y_temp)\n",
    "    k6[:] = h*y_derivs[:]\n",
    "    \n",
    "    = np.zeros(nv)\n",
    "    yipo = list_1.append(yi[:] + (37/378*k1[:] + 0*k2[:] +250/621*k3[:] + 125/594*k4[:] +0*k5[:]+ 512/1771*k6[:])\n",
    "     = np.zeros(nv)\n",
    "    yipo_star = list_2.append(yi[:] + (2825/27648*k1[:] +0*k2[:]+18575/48384*k3[:]+13525/55296*k4[:]+277/14336*k5[:]+1/4*k6[:])\n",
    "    \n",
    "    return yipo,yipo_star"
   ]
  },
  {
   "cell_type": "code",
   "execution_count": 25,
   "metadata": {},
   "outputs": [],
   "source": [
    "def rk4_mv_ad(dydx,x_i,y_i,nv,h,tol):\n",
    "    \n",
    "    SAFETY = 0.9\n",
    "    H_NEW_FAC = 2.0\n",
    "    \n",
    "    imax = 10000\n",
    "    \n",
    "    i = 0\n",
    "    \n",
    "    Delta = np.full(nv,2*tol)\n",
    "    \n",
    "    h_step = h\n",
    "    \n",
    "    while(Delta.max()/tol > 1.0):\n",
    "            \n",
    "        Delta = np.fabs(yipo- yipo_star)\n",
    "        \n",
    "        if(Delta.max()/tol > 1.0):\n",
    "            \n",
    "            h_step *= SAFETY * (Delta.max()/tol)**(-0.25)\n",
    "        if(i>=imax):\n",
    "            print(\"Too many iterations in rk_mv_ad()\")\n",
    "            raise StopIteration(\"Ending after i = \",i)\n",
    "        i+=1\n",
    "    \n",
    "    h_new = np.fmin(h_step *(Delta.max()/tol)**(-0.9), h_step*H_NEW_FAC)\n",
    "    return y_2,h_new,h_step"
   ]
  },
  {
   "cell_type": "code",
   "execution_count": 26,
   "metadata": {},
   "outputs": [],
   "source": [
    "def rk4_mv(dydx,a,b,y_a,tol):\n",
    "    xi = a\n",
    "    yi = y_a.copy()\n",
    "    \n",
    "    h = 1.0e-4 * (b-a)\n",
    "    imax = 10000\n",
    "    \n",
    "    i = 0\n",
    "    nv = len(y_a)\n",
    "    \n",
    "    x = np.full(1,a)\n",
    "    y = np.full((1,nv),y_a)\n",
    "    \n",
    "    flag = 1\n",
    "    \n",
    "    while(flag):\n",
    "        yi_new,h_new, h_step = rk4_mv_ad(dydx,xi,yi,nv,h,tol)\n",
    "        h = h_new\n",
    "        \n",
    "        if(xi+h_step>b):\n",
    "            \n",
    "            h = b-xi\n",
    "            \n",
    "            yi_new, h_new, h_step = rk4_mv_ad(dydx,xi,yi,nv,h,tol)\n",
    "            \n",
    "            flag = 0\n",
    "        xi += h_step\n",
    "        yi[:] = yi_new[:]\n",
    "        \n",
    "        x = np.append(x,xi)\n",
    "        y_new = np.zeros((len(x),nv))\n",
    "        y_new[0:len(x)-1,:] = y\n",
    "        y_new[-1,:] = yi[:]\n",
    "        del y\n",
    "        y = y_new\n",
    "        \n",
    "        if(i>=imax):\n",
    "            print(\"Maximum iterations reached.\")\n",
    "            raise StopIteration(\"Iteration number = \",i)\n",
    "            \n",
    "        i+=1\n",
    "        \n",
    "        s= \"i = %3d\\tx = %9.8f\\th = %9.8f\\tb=%9.8f\" % (i,xi,h_step,b)\n",
    "        print(s)\n",
    "        \n",
    "        if(xi==b):\n",
    "            flag = 0\n",
    "    return x,y"
   ]
  },
  {
   "cell_type": "code",
   "execution_count": 27,
   "metadata": {},
   "outputs": [
    {
     "ename": "NameError",
     "evalue": "name 'yipo' is not defined",
     "output_type": "error",
     "traceback": [
      "\u001b[0;31m---------------------------------------------------------------------------\u001b[0m",
      "\u001b[0;31mNameError\u001b[0m                                 Traceback (most recent call last)",
      "\u001b[0;32m<ipython-input-27-666add75a56e>\u001b[0m in \u001b[0;36m<module>\u001b[0;34m()\u001b[0m\n\u001b[1;32m      8\u001b[0m \u001b[0mtolerance\u001b[0m \u001b[0;34m=\u001b[0m \u001b[0;36m1.0e-6\u001b[0m\u001b[0;34m\u001b[0m\u001b[0m\n\u001b[1;32m      9\u001b[0m \u001b[0;34m\u001b[0m\u001b[0m\n\u001b[0;32m---> 10\u001b[0;31m \u001b[0mx\u001b[0m\u001b[0;34m,\u001b[0m\u001b[0my\u001b[0m \u001b[0;34m=\u001b[0m \u001b[0mrk4_mv\u001b[0m\u001b[0;34m(\u001b[0m\u001b[0mdydx\u001b[0m\u001b[0;34m,\u001b[0m\u001b[0ma\u001b[0m\u001b[0;34m,\u001b[0m\u001b[0mb\u001b[0m\u001b[0;34m,\u001b[0m\u001b[0my_0\u001b[0m\u001b[0;34m,\u001b[0m\u001b[0mtolerance\u001b[0m\u001b[0;34m)\u001b[0m\u001b[0;34m\u001b[0m\u001b[0m\n\u001b[0m",
      "\u001b[0;32m<ipython-input-26-9b571992563e>\u001b[0m in \u001b[0;36mrk4_mv\u001b[0;34m(dydx, a, b, y_a, tol)\u001b[0m\n\u001b[1;32m     15\u001b[0m \u001b[0;34m\u001b[0m\u001b[0m\n\u001b[1;32m     16\u001b[0m     \u001b[0;32mwhile\u001b[0m\u001b[0;34m(\u001b[0m\u001b[0mflag\u001b[0m\u001b[0;34m)\u001b[0m\u001b[0;34m:\u001b[0m\u001b[0;34m\u001b[0m\u001b[0m\n\u001b[0;32m---> 17\u001b[0;31m         \u001b[0myi_new\u001b[0m\u001b[0;34m,\u001b[0m\u001b[0mh_new\u001b[0m\u001b[0;34m,\u001b[0m \u001b[0mh_step\u001b[0m \u001b[0;34m=\u001b[0m \u001b[0mrk4_mv_ad\u001b[0m\u001b[0;34m(\u001b[0m\u001b[0mdydx\u001b[0m\u001b[0;34m,\u001b[0m\u001b[0mxi\u001b[0m\u001b[0;34m,\u001b[0m\u001b[0myi\u001b[0m\u001b[0;34m,\u001b[0m\u001b[0mnv\u001b[0m\u001b[0;34m,\u001b[0m\u001b[0mh\u001b[0m\u001b[0;34m,\u001b[0m\u001b[0mtol\u001b[0m\u001b[0;34m)\u001b[0m\u001b[0;34m\u001b[0m\u001b[0m\n\u001b[0m\u001b[1;32m     18\u001b[0m         \u001b[0mh\u001b[0m \u001b[0;34m=\u001b[0m \u001b[0mh_new\u001b[0m\u001b[0;34m\u001b[0m\u001b[0m\n\u001b[1;32m     19\u001b[0m \u001b[0;34m\u001b[0m\u001b[0m\n",
      "\u001b[0;32m<ipython-input-25-f12617870ab1>\u001b[0m in \u001b[0;36mrk4_mv_ad\u001b[0;34m(dydx, x_i, y_i, nv, h, tol)\u001b[0m\n\u001b[1;32m     14\u001b[0m     \u001b[0;32mwhile\u001b[0m\u001b[0;34m(\u001b[0m\u001b[0mDelta\u001b[0m\u001b[0;34m.\u001b[0m\u001b[0mmax\u001b[0m\u001b[0;34m(\u001b[0m\u001b[0;34m)\u001b[0m\u001b[0;34m/\u001b[0m\u001b[0mtol\u001b[0m \u001b[0;34m>\u001b[0m \u001b[0;36m1.0\u001b[0m\u001b[0;34m)\u001b[0m\u001b[0;34m:\u001b[0m\u001b[0;34m\u001b[0m\u001b[0m\n\u001b[1;32m     15\u001b[0m \u001b[0;34m\u001b[0m\u001b[0m\n\u001b[0;32m---> 16\u001b[0;31m         \u001b[0mDelta\u001b[0m \u001b[0;34m=\u001b[0m \u001b[0mnp\u001b[0m\u001b[0;34m.\u001b[0m\u001b[0mfabs\u001b[0m\u001b[0;34m(\u001b[0m\u001b[0myipo\u001b[0m\u001b[0;34m-\u001b[0m \u001b[0myipo_star\u001b[0m\u001b[0;34m)\u001b[0m\u001b[0;34m\u001b[0m\u001b[0m\n\u001b[0m\u001b[1;32m     17\u001b[0m \u001b[0;34m\u001b[0m\u001b[0m\n\u001b[1;32m     18\u001b[0m         \u001b[0;32mif\u001b[0m\u001b[0;34m(\u001b[0m\u001b[0mDelta\u001b[0m\u001b[0;34m.\u001b[0m\u001b[0mmax\u001b[0m\u001b[0;34m(\u001b[0m\u001b[0;34m)\u001b[0m\u001b[0;34m/\u001b[0m\u001b[0mtol\u001b[0m \u001b[0;34m>\u001b[0m \u001b[0;36m1.0\u001b[0m\u001b[0;34m)\u001b[0m\u001b[0;34m:\u001b[0m\u001b[0;34m\u001b[0m\u001b[0m\n",
      "\u001b[0;31mNameError\u001b[0m: name 'yipo' is not defined"
     ]
    }
   ],
   "source": [
    "a = 0.0\n",
    "b = 2.0 * np.pi\n",
    "\n",
    "y_0 = np.zeros(2)\n",
    "y_0[0] = 0.0\n",
    "y_0[1] = 1.0\n",
    "nv = 2\n",
    "tolerance = 1.0e-6\n",
    "\n",
    "x,y = rk4_mv(dydx,a,b,y_0,tolerance)"
   ]
  },
  {
   "cell_type": "code",
   "execution_count": null,
   "metadata": {},
   "outputs": [],
   "source": []
  }
 ],
 "metadata": {
  "kernelspec": {
   "display_name": "Python 3",
   "language": "python",
   "name": "python3"
  },
  "language_info": {
   "codemirror_mode": {
    "name": "ipython",
    "version": 3
   },
   "file_extension": ".py",
   "mimetype": "text/x-python",
   "name": "python",
   "nbconvert_exporter": "python",
   "pygments_lexer": "ipython3",
   "version": "3.6.5"
  }
 },
 "nbformat": 4,
 "nbformat_minor": 2
}
